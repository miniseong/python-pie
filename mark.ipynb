{
 "cells": [
  {
   "cell_type": "markdown",
   "metadata": {},
   "source": [
    "# 제목1 <#은 h tag와 같은 역할>\n",
    "===\n",
    "\n",
    "## 부제목\n",
    "\n",
    "# h1\n",
    "\n",
    "### h3\n",
    "\n",
    "##### h5\n",
    "\n",
    ">content1\n",
    ">   >content2\n",
    ">   >   >content3"
   ]
  },
  {
   "cell_type": "markdown",
   "metadata": {},
   "source": [
    "## list\n",
    "\n",
    "1. 첫번째\n",
    "2. 두번째\n",
    "3. 세번째\n",
    "\n",
    "* 리스트1\n",
    "    * 리스트2\n",
    "        * 리스트3"
   ]
  },
  {
   "cell_type": "markdown",
   "metadata": {},
   "source": [
    "### code\n",
    "\n",
    "```python\n",
    "i =0\n",
    "i + 1\n",
    "print(i)\n",
    "```\n",
    "\n",
    "code end\n",
    "\n",
    "* ```를 사용"
   ]
  },
  {
   "cell_type": "markdown",
   "metadata": {},
   "source": [
    "************************\n",
    "아아\n",
    "\n",
    "------------------------\n"
   ]
  },
  {
   "cell_type": "markdown",
   "metadata": {},
   "source": [
    "[Google][googlelink]\n",
    "\n",
    "[googlelink]:https://www.google.co.kr/"
   ]
  },
  {
   "cell_type": "markdown",
   "metadata": {},
   "source": [
    "![Alt text](https://search.pstatic.net/common/?src=http%3A%2F%2Fblogfiles.naver.net%2FMjAyMDA1MDVfNDQg%2FMDAxNTg4NjQ5MzM1MzE1.R7PRaubmcGEcdxYf5Lzz57lD5RpqBSYjDC1OaESkklMg.fE0R0gJfIVaEwpFelJOXSuTEWSGNcwgHjl2oSRA760Yg.JPEG.bell-system%2F%25C5%25A9%25B8%25B2%25C5%25E4%25C0%25CC%25C7%25AA%25B5%25E9%25BF%25EC%25B8%25AE%25B5%25CE%25B8%25AE_%252813%2529.jpg&type=l340_165)\n",
    "\n",
    "<img src=\"https://search.pstatic.net/common/?src=http%3A%2F%2Fblogfiles.naver.net%2FMjAyMDA1MDVfNDQg%2FMDAxNTg4NjQ5MzM1MzE1.R7PRaubmcGEcdxYf5Lzz57lD5RpqBSYjDC1OaESkklMg.fE0R0gJfIVaEwpFelJOXSuTEWSGNcwgHjl2oSRA760Yg.JPEG.bell-system%2F%25C5%25A9%25B8%25B2%25C5%25E4%25C0%25CC%25C7%25AA%25B5%25E9%25BF%25EC%25B8%25AE%25B5%25CE%25B8%25AE_%252813%2529.jpg&type=l340_165\" width=\"110%\">"
   ]
  }
 ],
 "metadata": {
  "language_info": {
   "name": "python"
  },
  "orig_nbformat": 4
 },
 "nbformat": 4,
 "nbformat_minor": 2
}
